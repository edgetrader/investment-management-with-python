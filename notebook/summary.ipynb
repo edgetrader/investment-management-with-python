{
 "cells": [
  {
   "cell_type": "markdown",
   "metadata": {},
   "source": [
    "# Dynamic Liability-Driven Investing Strategies: \n",
    "## The Emergence of a New Investment Paradigm for Pension Funds?"
   ]
  },
  {
   "cell_type": "markdown",
   "metadata": {},
   "source": [
    "Liability-Driven Investing (LDI) paradigm, is a general investment framework that advocates the allocation of pension fund assets to two distinct portfolios, a performance-seeking portfolio (PSP) and a liability-hedging portfolio (LHP), in addition to residual long or short investments in cash. \n",
    "\n",
    "The purpose of the LHP is to provide a hedge against unexpected changes in the risk factors that impact liability value. Because this value equals the present value of promised pension payments, the relevant risk factors are those that impact either the discount rate (typically interest rate risk and credit risk) or the cash flows (inflation risk for instance).\n",
    "\n",
    "1. Basic of Returns\n",
    "2. 2-Asset Efficient Frontier\n",
    "3. Capital Market Line - Risk-free Asset Portfolio and Risky Asset Portfolio\n",
    "4. Limitation of Diverification\n",
    "5. Constant Proportion Portfolio Insurance (CPPI)\n",
    "    - rebalance monthly\n",
    "    - determine max DD\n",
    "    - invest m times of difference of asset value and max DD in Risky Assets\n",
    "6. Generating Stock Prices (GBM)\n",
    "7. Generating Interest Rates and Bond Price (CIR)\n",
    "8. Constructing Global Hedge Portfolio\n",
    "    - libability during matching\n",
    "9. Risk Budgeting and Asset Allocation\n",
    "10. Rebalancing Strategy - Floor and Drawdown Allocator (Fixed Floor and Moving Floor respectively)\n",
    "    "
   ]
  },
  {
   "cell_type": "code",
   "execution_count": null,
   "metadata": {},
   "outputs": [],
   "source": []
  },
  {
   "cell_type": "code",
   "execution_count": null,
   "metadata": {},
   "outputs": [],
   "source": []
  }
 ],
 "metadata": {
  "kernelspec": {
   "display_name": "Python 3",
   "language": "python",
   "name": "python3"
  },
  "language_info": {
   "codemirror_mode": {
    "name": "ipython",
    "version": 3
   },
   "file_extension": ".py",
   "mimetype": "text/x-python",
   "name": "python",
   "nbconvert_exporter": "python",
   "pygments_lexer": "ipython3",
   "version": "3.8.3"
  }
 },
 "nbformat": 4,
 "nbformat_minor": 4
}
