{
 "cells": [
  {
   "cell_type": "markdown",
   "metadata": {},
   "source": [
    "# Introduction to Portfolio Construction and Analysis with Python\n",
    "EDHEC Business School  \n",
    "https://www.coursera.org/learn/introduction-portfolio-construction-python\n"
   ]
  },
  {
   "cell_type": "markdown",
   "metadata": {},
   "source": [
    "## Week 1 - Basic of Returns and Risk Measures\n",
    "\n",
    "- How returns are calculated\n",
    "- How to test normality of return distribution\n",
    "- Various statistical measures - Standard Deviation, Skewness and Kurtosis\n",
    "- Various risk measures \n",
    "    1. Volatility\n",
    "    2. Semideviation\n",
    "    3. VaR, Historical, Gaussian, Cornish-Fisher with specific confidence level\n",
    "    4. CVaR / Expected Shortfall"
   ]
  },
  {
   "cell_type": "markdown",
   "metadata": {},
   "source": [
    "### Importing Data"
   ]
  },
  {
   "cell_type": "code",
   "execution_count": 1,
   "metadata": {},
   "outputs": [],
   "source": [
    "import sys  \n",
    "sys.path.append('../src') \n",
    "from edhec_risk_kit import *\n",
    "\n",
    "import numpy as np\n",
    "import pandas as pd\n",
    "import edhec_risk_kit as erk\n",
    "\n",
    "DATA_FOLDER = '../data/'"
   ]
  },
  {
   "cell_type": "code",
   "execution_count": 2,
   "metadata": {},
   "outputs": [],
   "source": [
    "hfi = erk.get_hfi_returns()"
   ]
  },
  {
   "cell_type": "markdown",
   "metadata": {},
   "source": [
    "### Statistical Analysis on Hedge Fund Index Returns\n",
    "#### Normality Test\n",
    "Check whether the returns are normally distributed and have a better understand which risk measure to use risk analysis"
   ]
  },
  {
   "cell_type": "code",
   "execution_count": 3,
   "metadata": {},
   "outputs": [
    {
     "data": {
      "text/plain": [
       "Convertible Arbitrage     False\n",
       "CTA Global                 True\n",
       "Distressed Securities     False\n",
       "Emerging Markets          False\n",
       "Equity Market Neutral     False\n",
       "Event Driven              False\n",
       "Fixed Income Arbitrage    False\n",
       "Global Macro              False\n",
       "Long/Short Equity         False\n",
       "Merger Arbitrage          False\n",
       "Relative Value            False\n",
       "Short Selling             False\n",
       "Funds Of Funds            False\n",
       "dtype: bool"
      ]
     },
     "execution_count": 3,
     "metadata": {},
     "output_type": "execute_result"
    }
   ],
   "source": [
    "hfi.aggregate(erk.is_normal)"
   ]
  },
  {
   "cell_type": "markdown",
   "metadata": {},
   "source": [
    "#### Volatilty (Standard Deviation)"
   ]
  },
  {
   "cell_type": "code",
   "execution_count": 4,
   "metadata": {},
   "outputs": [
    {
     "data": {
      "text/plain": [
       "Convertible Arbitrage     0.016567\n",
       "CTA Global                0.023335\n",
       "Distressed Securities     0.017042\n",
       "Emerging Markets          0.032538\n",
       "Equity Market Neutral     0.008130\n",
       "Event Driven              0.016744\n",
       "Fixed Income Arbitrage    0.011539\n",
       "Global Macro              0.014722\n",
       "Long/Short Equity         0.019935\n",
       "Merger Arbitrage          0.009619\n",
       "Relative Value            0.011484\n",
       "Short Selling             0.047746\n",
       "Funds Of Funds            0.015566\n",
       "dtype: float64"
      ]
     },
     "execution_count": 4,
     "metadata": {},
     "output_type": "execute_result"
    }
   ],
   "source": [
    "hfi.aggregate(np.std)"
   ]
  },
  {
   "cell_type": "markdown",
   "metadata": {},
   "source": [
    "#### Skewness"
   ]
  },
  {
   "cell_type": "code",
   "execution_count": 5,
   "metadata": {},
   "outputs": [
    {
     "data": {
      "text/plain": [
       "Convertible Arbitrage    -2.639592\n",
       "CTA Global                0.173699\n",
       "Distressed Securities    -1.300842\n",
       "Emerging Markets         -1.167067\n",
       "Equity Market Neutral    -2.124435\n",
       "Event Driven             -1.409154\n",
       "Fixed Income Arbitrage   -3.940320\n",
       "Global Macro              0.982922\n",
       "Long/Short Equity        -0.390227\n",
       "Merger Arbitrage         -1.320083\n",
       "Relative Value           -1.815470\n",
       "Short Selling             0.767975\n",
       "Funds Of Funds           -0.361783\n",
       "dtype: float64"
      ]
     },
     "execution_count": 5,
     "metadata": {},
     "output_type": "execute_result"
    }
   ],
   "source": [
    "hfi.aggregate(erk.skewness)"
   ]
  },
  {
   "cell_type": "markdown",
   "metadata": {},
   "source": [
    "#### Kurtosis"
   ]
  },
  {
   "cell_type": "code",
   "execution_count": 6,
   "metadata": {},
   "outputs": [
    {
     "data": {
      "text/plain": [
       "Convertible Arbitrage     23.280834\n",
       "CTA Global                 2.952960\n",
       "Distressed Securities      7.889983\n",
       "Emerging Markets           9.250788\n",
       "Equity Market Neutral     17.218555\n",
       "Event Driven               8.035828\n",
       "Fixed Income Arbitrage    29.842199\n",
       "Global Macro               5.741679\n",
       "Long/Short Equity          4.523893\n",
       "Merger Arbitrage           8.738950\n",
       "Relative Value            12.121208\n",
       "Short Selling              6.117772\n",
       "Funds Of Funds             7.070153\n",
       "dtype: float64"
      ]
     },
     "execution_count": 6,
     "metadata": {},
     "output_type": "execute_result"
    }
   ],
   "source": [
    "hfi.aggregate(erk.kurtosis)"
   ]
  },
  {
   "cell_type": "markdown",
   "metadata": {},
   "source": [
    "#### Semideviation\n",
    "Volatility of negative returns"
   ]
  },
  {
   "cell_type": "code",
   "execution_count": 7,
   "metadata": {},
   "outputs": [
    {
     "data": {
      "text/plain": [
       "Convertible Arbitrage     0.019540\n",
       "CTA Global                0.012443\n",
       "Distressed Securities     0.015185\n",
       "Emerging Markets          0.028039\n",
       "Equity Market Neutral     0.009566\n",
       "Event Driven              0.015429\n",
       "Fixed Income Arbitrage    0.017763\n",
       "Global Macro              0.006579\n",
       "Long/Short Equity         0.014051\n",
       "Merger Arbitrage          0.008875\n",
       "Relative Value            0.012244\n",
       "Short Selling             0.027283\n",
       "Funds Of Funds            0.012122\n",
       "dtype: float64"
      ]
     },
     "execution_count": 7,
     "metadata": {},
     "output_type": "execute_result"
    }
   ],
   "source": [
    "hfi.aggregate(erk.semideviation)"
   ]
  },
  {
   "cell_type": "code",
   "execution_count": 8,
   "metadata": {},
   "outputs": [
    {
     "data": {
      "text/plain": [
       "Convertible Arbitrage     0.019540\n",
       "CTA Global                0.012443\n",
       "Distressed Securities     0.015185\n",
       "Emerging Markets          0.028039\n",
       "Equity Market Neutral     0.009566\n",
       "Event Driven              0.015429\n",
       "Fixed Income Arbitrage    0.017763\n",
       "Global Macro              0.006579\n",
       "Long/Short Equity         0.014051\n",
       "Merger Arbitrage          0.008875\n",
       "Relative Value            0.012244\n",
       "Short Selling             0.027283\n",
       "Funds Of Funds            0.012122\n",
       "dtype: float64"
      ]
     },
     "execution_count": 8,
     "metadata": {},
     "output_type": "execute_result"
    }
   ],
   "source": [
    "hfi[hfi<0].std(ddof=0)"
   ]
  },
  {
   "cell_type": "markdown",
   "metadata": {},
   "source": [
    "#### Summary Statistics"
   ]
  },
  {
   "cell_type": "code",
   "execution_count": 9,
   "metadata": {},
   "outputs": [
    {
     "data": {
      "text/html": [
       "<div>\n",
       "<style scoped>\n",
       "    .dataframe tbody tr th:only-of-type {\n",
       "        vertical-align: middle;\n",
       "    }\n",
       "\n",
       "    .dataframe tbody tr th {\n",
       "        vertical-align: top;\n",
       "    }\n",
       "\n",
       "    .dataframe thead th {\n",
       "        text-align: right;\n",
       "    }\n",
       "</style>\n",
       "<table border=\"1\" class=\"dataframe\">\n",
       "  <thead>\n",
       "    <tr style=\"text-align: right;\">\n",
       "      <th></th>\n",
       "      <th>volatility</th>\n",
       "      <th>skewness</th>\n",
       "      <th>kurtosis</th>\n",
       "      <th>semideviation</th>\n",
       "    </tr>\n",
       "  </thead>\n",
       "  <tbody>\n",
       "    <tr>\n",
       "      <th>Convertible Arbitrage</th>\n",
       "      <td>0.016567</td>\n",
       "      <td>-2.639592</td>\n",
       "      <td>23.280834</td>\n",
       "      <td>0.019540</td>\n",
       "    </tr>\n",
       "    <tr>\n",
       "      <th>CTA Global</th>\n",
       "      <td>0.023335</td>\n",
       "      <td>0.173699</td>\n",
       "      <td>2.952960</td>\n",
       "      <td>0.012443</td>\n",
       "    </tr>\n",
       "    <tr>\n",
       "      <th>Distressed Securities</th>\n",
       "      <td>0.017042</td>\n",
       "      <td>-1.300842</td>\n",
       "      <td>7.889983</td>\n",
       "      <td>0.015185</td>\n",
       "    </tr>\n",
       "    <tr>\n",
       "      <th>Emerging Markets</th>\n",
       "      <td>0.032538</td>\n",
       "      <td>-1.167067</td>\n",
       "      <td>9.250788</td>\n",
       "      <td>0.028039</td>\n",
       "    </tr>\n",
       "    <tr>\n",
       "      <th>Equity Market Neutral</th>\n",
       "      <td>0.008130</td>\n",
       "      <td>-2.124435</td>\n",
       "      <td>17.218555</td>\n",
       "      <td>0.009566</td>\n",
       "    </tr>\n",
       "    <tr>\n",
       "      <th>Event Driven</th>\n",
       "      <td>0.016744</td>\n",
       "      <td>-1.409154</td>\n",
       "      <td>8.035828</td>\n",
       "      <td>0.015429</td>\n",
       "    </tr>\n",
       "    <tr>\n",
       "      <th>Fixed Income Arbitrage</th>\n",
       "      <td>0.011539</td>\n",
       "      <td>-3.940320</td>\n",
       "      <td>29.842199</td>\n",
       "      <td>0.017763</td>\n",
       "    </tr>\n",
       "    <tr>\n",
       "      <th>Global Macro</th>\n",
       "      <td>0.014722</td>\n",
       "      <td>0.982922</td>\n",
       "      <td>5.741679</td>\n",
       "      <td>0.006579</td>\n",
       "    </tr>\n",
       "    <tr>\n",
       "      <th>Long/Short Equity</th>\n",
       "      <td>0.019935</td>\n",
       "      <td>-0.390227</td>\n",
       "      <td>4.523893</td>\n",
       "      <td>0.014051</td>\n",
       "    </tr>\n",
       "    <tr>\n",
       "      <th>Merger Arbitrage</th>\n",
       "      <td>0.009619</td>\n",
       "      <td>-1.320083</td>\n",
       "      <td>8.738950</td>\n",
       "      <td>0.008875</td>\n",
       "    </tr>\n",
       "    <tr>\n",
       "      <th>Relative Value</th>\n",
       "      <td>0.011484</td>\n",
       "      <td>-1.815470</td>\n",
       "      <td>12.121208</td>\n",
       "      <td>0.012244</td>\n",
       "    </tr>\n",
       "    <tr>\n",
       "      <th>Short Selling</th>\n",
       "      <td>0.047746</td>\n",
       "      <td>0.767975</td>\n",
       "      <td>6.117772</td>\n",
       "      <td>0.027283</td>\n",
       "    </tr>\n",
       "    <tr>\n",
       "      <th>Funds Of Funds</th>\n",
       "      <td>0.015566</td>\n",
       "      <td>-0.361783</td>\n",
       "      <td>7.070153</td>\n",
       "      <td>0.012122</td>\n",
       "    </tr>\n",
       "  </tbody>\n",
       "</table>\n",
       "</div>"
      ],
      "text/plain": [
       "                        volatility  skewness   kurtosis  semideviation\n",
       "Convertible Arbitrage     0.016567 -2.639592  23.280834       0.019540\n",
       "CTA Global                0.023335  0.173699   2.952960       0.012443\n",
       "Distressed Securities     0.017042 -1.300842   7.889983       0.015185\n",
       "Emerging Markets          0.032538 -1.167067   9.250788       0.028039\n",
       "Equity Market Neutral     0.008130 -2.124435  17.218555       0.009566\n",
       "Event Driven              0.016744 -1.409154   8.035828       0.015429\n",
       "Fixed Income Arbitrage    0.011539 -3.940320  29.842199       0.017763\n",
       "Global Macro              0.014722  0.982922   5.741679       0.006579\n",
       "Long/Short Equity         0.019935 -0.390227   4.523893       0.014051\n",
       "Merger Arbitrage          0.009619 -1.320083   8.738950       0.008875\n",
       "Relative Value            0.011484 -1.815470  12.121208       0.012244\n",
       "Short Selling             0.047746  0.767975   6.117772       0.027283\n",
       "Funds Of Funds            0.015566 -0.361783   7.070153       0.012122"
      ]
     },
     "execution_count": 9,
     "metadata": {},
     "output_type": "execute_result"
    }
   ],
   "source": [
    "stats_list = pd.concat([hfi.aggregate(np.std), hfi.aggregate(erk.skewness), \n",
    "           hfi.aggregate(erk.kurtosis), hfi.aggregate(erk.semideviation)], axis=1)\n",
    "stats_list.columns = ['volatility','skewness','kurtosis','semideviation']\n",
    "stats_list"
   ]
  },
  {
   "cell_type": "markdown",
   "metadata": {},
   "source": [
    "### Value-At-Risk Measures\n",
    "\n",
    "- Historic VaR (Percentile cutoff method)\n",
    "- Parametric VaR (Gaussian normal distribution)\n",
    "- Modified Cornish-Fisher VaR (Adjusted for skewness and kurtosis of return distribution)"
   ]
  },
  {
   "cell_type": "code",
   "execution_count": 10,
   "metadata": {},
   "outputs": [
    {
     "data": {
      "text/plain": [
       "array([-0.01576, -0.03169, -0.01966, -0.04247, -0.00814, -0.02535,\n",
       "       -0.00787, -0.01499, -0.02598, -0.01047, -0.01174, -0.06783,\n",
       "       -0.02047])"
      ]
     },
     "execution_count": 10,
     "metadata": {},
     "output_type": "execute_result"
    }
   ],
   "source": [
    "np.percentile(hfi, 5, axis=0)"
   ]
  },
  {
   "cell_type": "code",
   "execution_count": 11,
   "metadata": {},
   "outputs": [
    {
     "data": {
      "text/plain": [
       "Convertible Arbitrage     0.01576\n",
       "CTA Global                0.03169\n",
       "Distressed Securities     0.01966\n",
       "Emerging Markets          0.04247\n",
       "Equity Market Neutral     0.00814\n",
       "Event Driven              0.02535\n",
       "Fixed Income Arbitrage    0.00787\n",
       "Global Macro              0.01499\n",
       "Long/Short Equity         0.02598\n",
       "Merger Arbitrage          0.01047\n",
       "Relative Value            0.01174\n",
       "Short Selling             0.06783\n",
       "Funds Of Funds            0.02047\n",
       "dtype: float64"
      ]
     },
     "execution_count": 11,
     "metadata": {},
     "output_type": "execute_result"
    }
   ],
   "source": [
    "erk.var_historic(hfi)"
   ]
  },
  {
   "cell_type": "code",
   "execution_count": 12,
   "metadata": {},
   "outputs": [
    {
     "data": {
      "text/plain": [
       "Convertible Arbitrage     0.021691\n",
       "CTA Global                0.034235\n",
       "Distressed Securities     0.021032\n",
       "Emerging Markets          0.047164\n",
       "Equity Market Neutral     0.008850\n",
       "Event Driven              0.021144\n",
       "Fixed Income Arbitrage    0.014579\n",
       "Global Macro              0.018766\n",
       "Long/Short Equity         0.026397\n",
       "Merger Arbitrage          0.010435\n",
       "Relative Value            0.013061\n",
       "Short Selling             0.080086\n",
       "Funds Of Funds            0.021292\n",
       "dtype: float64"
      ]
     },
     "execution_count": 12,
     "metadata": {},
     "output_type": "execute_result"
    }
   ],
   "source": [
    "erk.var_gaussian(hfi)"
   ]
  },
  {
   "cell_type": "code",
   "execution_count": 13,
   "metadata": {},
   "outputs": [
    {
     "data": {
      "text/plain": [
       "Convertible Arbitrage     0.025166\n",
       "CTA Global                0.033094\n",
       "Distressed Securities     0.025102\n",
       "Emerging Markets          0.053011\n",
       "Equity Market Neutral     0.010734\n",
       "Event Driven              0.025516\n",
       "Fixed Income Arbitrage    0.017881\n",
       "Global Macro              0.013581\n",
       "Long/Short Equity         0.027935\n",
       "Merger Arbitrage          0.012612\n",
       "Relative Value            0.016157\n",
       "Short Selling             0.066157\n",
       "Funds Of Funds            0.021576\n",
       "dtype: float64"
      ]
     },
     "execution_count": 13,
     "metadata": {},
     "output_type": "execute_result"
    }
   ],
   "source": [
    "erk.var_gaussian(hfi, modified=True)"
   ]
  },
  {
   "cell_type": "markdown",
   "metadata": {},
   "source": [
    "### Conditional Value-at-Risk (Expected Shortfall)"
   ]
  },
  {
   "cell_type": "code",
   "execution_count": 14,
   "metadata": {},
   "outputs": [
    {
     "data": {
      "text/plain": [
       "Convertible Arbitrage     0.036550\n",
       "CTA Global                0.041264\n",
       "Distressed Securities     0.036429\n",
       "Emerging Markets          0.072364\n",
       "Equity Market Neutral     0.016879\n",
       "Event Driven              0.038336\n",
       "Fixed Income Arbitrage    0.028257\n",
       "Global Macro              0.020629\n",
       "Long/Short Equity         0.041943\n",
       "Merger Arbitrage          0.019143\n",
       "Relative Value            0.024650\n",
       "Short Selling             0.096821\n",
       "Funds Of Funds            0.033207\n",
       "dtype: float64"
      ]
     },
     "execution_count": 14,
     "metadata": {},
     "output_type": "execute_result"
    }
   ],
   "source": [
    "erk.cvar_historic(hfi)"
   ]
  },
  {
   "cell_type": "markdown",
   "metadata": {},
   "source": [
    "### Summary of Risk Measures"
   ]
  },
  {
   "cell_type": "code",
   "execution_count": 15,
   "metadata": {},
   "outputs": [
    {
     "data": {
      "text/plain": [
       "<matplotlib.axes._subplots.AxesSubplot at 0x7ff72742e130>"
      ]
     },
     "execution_count": 15,
     "metadata": {},
     "output_type": "execute_result"
    },
    {
     "data": {
      "image/png": "[encoded data removed]",
      "text/plain": [
       "<Figure size 864x432 with 1 Axes>"
      ]
     },
     "metadata": {
      "needs_background": "light"
     },
     "output_type": "display_data"
    }
   ],
   "source": [
    "var_list = [erk.var_gaussian(hfi), erk.var_gaussian(hfi, modified=True), erk.var_historic(hfi), erk.cvar_historic(hfi)]\n",
    "comparison = pd.concat(var_list, axis=1)\n",
    "comparison.columns = ['Gaussian', 'Cornish-Fisher', 'Historic', 'Expected-Shortfall']\n",
    "comparison.plot.bar(title='EDHEC Hedge Fund Indices: VaR and CVaR', figsize=(12,6))"
   ]
  },
  {
   "cell_type": "code",
   "execution_count": null,
   "metadata": {},
   "outputs": [],
   "source": []
  }
 ],
 "metadata": {
  "kernelspec": {
   "display_name": "Python 3",
   "language": "python",
   "name": "python3"
  },
  "language_info": {
   "codemirror_mode": {
    "name": "ipython",
    "version": 3
   },
   "file_extension": ".py",
   "mimetype": "text/x-python",
   "name": "python",
   "nbconvert_exporter": "python",
   "pygments_lexer": "ipython3",
   "version": "3.8.3"
  }
 },
 "nbformat": 4,
 "nbformat_minor": 4
}
