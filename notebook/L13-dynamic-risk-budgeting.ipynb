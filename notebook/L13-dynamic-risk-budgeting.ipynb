{
 "cells": [
  {
   "cell_type": "markdown",
   "metadata": {},
   "source": [
    "# Introduction to Portfolio Construction and Analysis with Python\n",
    "EDHEC Business School  \n",
    "https://www.coursera.org/learn/introduction-portfolio-construction-python"
   ]
  },
  {
   "cell_type": "markdown",
   "metadata": {},
   "source": [
    "## Liability Friendly Equity Portfolios\n",
    "\n",
    "- design equity portfolios with better liability hedging benefits\n",
    "- hedging liabilities with some kind of a cash flow matching perspective\n",
    "- stocks that may have a low tracking error with respect to the liabilities\n",
    "- portfolio of high dividend yield stocks, low vol stocks\n",
    "- low vol stocks (tracking error with liabilities) could be the closest approximation to bonds that we can find in the equity universe\n",
    "- increase the allocation to this more collaborative finally equity portfolio\n",
    "- selecting stocks with the both average liability hedging benefits will always allow investors to allocate more to equity for the same risk budget. And this should translate into superior performance as long as the impact in terms of performance of these multimedia friendly portfolio is not too bad."
   ]
  },
  {
   "cell_type": "markdown",
   "metadata": {},
   "source": [
    "## Dynamic Risk Budgeting"
   ]
  },
  {
   "cell_type": "code",
   "execution_count": 1,
   "metadata": {},
   "outputs": [],
   "source": [
    "import sys  \n",
    "sys.path.append('../src') \n",
    "from edhec_risk_kit import *\n",
    "\n",
    "import ipywidgets as widgets\n",
    "from IPython.display import display\n",
    "import pandas as pd\n",
    "import edhec_risk_kit as erk\n",
    "\n",
    "import matplotlib.pyplot as plt\n",
    "\n",
    "DATA_FOLDER = '../data/'\n",
    "\n",
    "%matplotlib inline\n",
    "\n",
    "# %load_ext autoreload\n",
    "# autoreload 2"
   ]
  },
  {
   "cell_type": "markdown",
   "metadata": {},
   "source": [
    "### Generating returns for bond and stock assets"
   ]
  },
  {
   "cell_type": "code",
   "execution_count": 2,
   "metadata": {},
   "outputs": [],
   "source": [
    "n_scenarios = 5000\n",
    "rates, zc_prices = erk.cir(10, n_scenarios=n_scenarios, b=0.03, r_0=0.03, sigma=0.02)\n",
    "price_eq = erk.gbm(n_years=10, n_scenarios=n_scenarios, mu=0.07, sigma=0.15)"
   ]
  },
  {
   "cell_type": "markdown",
   "metadata": {},
   "source": [
    "## Portfolio Returns Generation with Fixed Mix Allocator"
   ]
  },
  {
   "cell_type": "code",
   "execution_count": 3,
   "metadata": {},
   "outputs": [
    {
     "data": {
      "text/html": [
       "<div>\n",
       "<style scoped>\n",
       "    .dataframe tbody tr th:only-of-type {\n",
       "        vertical-align: middle;\n",
       "    }\n",
       "\n",
       "    .dataframe tbody tr th {\n",
       "        vertical-align: top;\n",
       "    }\n",
       "\n",
       "    .dataframe thead th {\n",
       "        text-align: right;\n",
       "    }\n",
       "</style>\n",
       "<table border=\"1\" class=\"dataframe\">\n",
       "  <thead>\n",
       "    <tr style=\"text-align: right;\">\n",
       "      <th></th>\n",
       "      <th>ZC</th>\n",
       "      <th>Eq</th>\n",
       "      <th>70/30</th>\n",
       "    </tr>\n",
       "  </thead>\n",
       "  <tbody>\n",
       "    <tr>\n",
       "      <th>mean</th>\n",
       "      <td>1.34</td>\n",
       "      <td>1.96</td>\n",
       "      <td>1.75</td>\n",
       "    </tr>\n",
       "    <tr>\n",
       "      <th>std</th>\n",
       "      <td>0.00</td>\n",
       "      <td>0.97</td>\n",
       "      <td>0.59</td>\n",
       "    </tr>\n",
       "    <tr>\n",
       "      <th>p_breach</th>\n",
       "      <td>NaN</td>\n",
       "      <td>0.04</td>\n",
       "      <td>0.01</td>\n",
       "    </tr>\n",
       "    <tr>\n",
       "      <th>e_short</th>\n",
       "      <td>NaN</td>\n",
       "      <td>0.12</td>\n",
       "      <td>0.07</td>\n",
       "    </tr>\n",
       "    <tr>\n",
       "      <th>p_reach</th>\n",
       "      <td>NaN</td>\n",
       "      <td>NaN</td>\n",
       "      <td>NaN</td>\n",
       "    </tr>\n",
       "    <tr>\n",
       "      <th>e_surplus</th>\n",
       "      <td>NaN</td>\n",
       "      <td>NaN</td>\n",
       "      <td>NaN</td>\n",
       "    </tr>\n",
       "  </tbody>\n",
       "</table>\n",
       "</div>"
      ],
      "text/plain": [
       "             ZC    Eq  70/30\n",
       "mean       1.34  1.96   1.75\n",
       "std        0.00  0.97   0.59\n",
       "p_breach    NaN  0.04   0.01\n",
       "e_short     NaN  0.12   0.07\n",
       "p_reach     NaN   NaN    NaN\n",
       "e_surplus   NaN   NaN    NaN"
      ]
     },
     "execution_count": 3,
     "metadata": {},
     "output_type": "execute_result"
    }
   ],
   "source": [
    "rets_eq = price_eq.pct_change().dropna()\n",
    "rets_zc = zc_prices.pct_change().dropna() ## Proxy duration matched portfolio\n",
    "rets_7030b = erk.bt_mix(rets_eq, rets_zc, allocator=erk.fixedmix_allocator, w1=0.7)\n",
    "pd.concat([erk.terminal_stats(rets_zc, name='ZC', floor=0.75),\n",
    "           erk.terminal_stats(rets_eq, name='Eq', floor=0.75),\n",
    "           erk.terminal_stats(rets_7030b, name='70/30', floor=0.75)],\n",
    "          axis=1).round(2)"
   ]
  },
  {
   "cell_type": "markdown",
   "metadata": {},
   "source": [
    "## Portfolio Returns Generation with Floor Allocator\n",
    "- Note the trade off some upside in the 100% equity portfolio in exchange for cutting off your downside\n",
    "- Floor allocator performs better than fixed weight allocator"
   ]
  },
  {
   "cell_type": "code",
   "execution_count": 6,
   "metadata": {},
   "outputs": [
    {
     "data": {
      "text/html": [
       "<div>\n",
       "<style scoped>\n",
       "    .dataframe tbody tr th:only-of-type {\n",
       "        vertical-align: middle;\n",
       "    }\n",
       "\n",
       "    .dataframe tbody tr th {\n",
       "        vertical-align: top;\n",
       "    }\n",
       "\n",
       "    .dataframe thead th {\n",
       "        text-align: right;\n",
       "    }\n",
       "</style>\n",
       "<table border=\"1\" class=\"dataframe\">\n",
       "  <thead>\n",
       "    <tr style=\"text-align: right;\">\n",
       "      <th></th>\n",
       "      <th>ZC</th>\n",
       "      <th>Eq</th>\n",
       "      <th>70/30</th>\n",
       "      <th>Floor75</th>\n",
       "    </tr>\n",
       "  </thead>\n",
       "  <tbody>\n",
       "    <tr>\n",
       "      <th>mean</th>\n",
       "      <td>1.34</td>\n",
       "      <td>1.96</td>\n",
       "      <td>1.75</td>\n",
       "      <td>1.93</td>\n",
       "    </tr>\n",
       "    <tr>\n",
       "      <th>std</th>\n",
       "      <td>0.00</td>\n",
       "      <td>0.97</td>\n",
       "      <td>0.59</td>\n",
       "      <td>0.97</td>\n",
       "    </tr>\n",
       "    <tr>\n",
       "      <th>p_breach</th>\n",
       "      <td>NaN</td>\n",
       "      <td>0.04</td>\n",
       "      <td>0.01</td>\n",
       "      <td>NaN</td>\n",
       "    </tr>\n",
       "    <tr>\n",
       "      <th>e_short</th>\n",
       "      <td>NaN</td>\n",
       "      <td>0.12</td>\n",
       "      <td>0.07</td>\n",
       "      <td>NaN</td>\n",
       "    </tr>\n",
       "    <tr>\n",
       "      <th>p_reach</th>\n",
       "      <td>NaN</td>\n",
       "      <td>NaN</td>\n",
       "      <td>NaN</td>\n",
       "      <td>NaN</td>\n",
       "    </tr>\n",
       "    <tr>\n",
       "      <th>e_surplus</th>\n",
       "      <td>NaN</td>\n",
       "      <td>NaN</td>\n",
       "      <td>NaN</td>\n",
       "      <td>NaN</td>\n",
       "    </tr>\n",
       "  </tbody>\n",
       "</table>\n",
       "</div>"
      ],
      "text/plain": [
       "             ZC    Eq  70/30  Floor75\n",
       "mean       1.34  1.96   1.75     1.93\n",
       "std        0.00  0.97   0.59     0.97\n",
       "p_breach    NaN  0.04   0.01      NaN\n",
       "e_short     NaN  0.12   0.07      NaN\n",
       "p_reach     NaN   NaN    NaN      NaN\n",
       "e_surplus   NaN   NaN    NaN      NaN"
      ]
     },
     "execution_count": 6,
     "metadata": {},
     "output_type": "execute_result"
    }
   ],
   "source": [
    "rets_floor75 = erk.bt_mix(rets_eq, rets_zc, allocator=erk.floor_allocator, floor=0.75, zc_prices=zc_prices[1:])\n",
    "pd.concat([erk.terminal_stats(rets_zc, name='ZC', floor=0.75),\n",
    "           erk.terminal_stats(rets_eq, name='Eq', floor=0.75),\n",
    "           erk.terminal_stats(rets_7030b, name='70/30', floor=0.75),\n",
    "           erk.terminal_stats(rets_floor75, name='Floor75', floor=0.75)\n",
    "          ],\n",
    "          axis=1).round(2)"
   ]
  },
  {
   "cell_type": "markdown",
   "metadata": {},
   "source": [
    "### Portfolio risk and performance with Floor Allocator with difference multiplier\n",
    "- for m=5, the mean return is almost something close to equities\n",
    "- there is some breached going on when m is equal to 5, with monthly rebalancing\n",
    "- but it does not happen very often, and when it does happen, the shortfall is pretty tiny"
   ]
  },
  {
   "cell_type": "code",
   "execution_count": 9,
   "metadata": {},
   "outputs": [
    {
     "data": {
      "text/html": [
       "<div>\n",
       "<style scoped>\n",
       "    .dataframe tbody tr th:only-of-type {\n",
       "        vertical-align: middle;\n",
       "    }\n",
       "\n",
       "    .dataframe tbody tr th {\n",
       "        vertical-align: top;\n",
       "    }\n",
       "\n",
       "    .dataframe thead th {\n",
       "        text-align: right;\n",
       "    }\n",
       "</style>\n",
       "<table border=\"1\" class=\"dataframe\">\n",
       "  <thead>\n",
       "    <tr style=\"text-align: right;\">\n",
       "      <th></th>\n",
       "      <th>ZC</th>\n",
       "      <th>Eq</th>\n",
       "      <th>70/30</th>\n",
       "      <th>Floor75</th>\n",
       "      <th>Floor75m1</th>\n",
       "      <th>Floor75m5</th>\n",
       "    </tr>\n",
       "  </thead>\n",
       "  <tbody>\n",
       "    <tr>\n",
       "      <th>mean</th>\n",
       "      <td>1.3433</td>\n",
       "      <td>1.9560</td>\n",
       "      <td>1.7486</td>\n",
       "      <td>1.9330</td>\n",
       "      <td>1.6158</td>\n",
       "      <td>1.9420</td>\n",
       "    </tr>\n",
       "    <tr>\n",
       "      <th>std</th>\n",
       "      <td>0.0000</td>\n",
       "      <td>0.9669</td>\n",
       "      <td>0.5900</td>\n",
       "      <td>0.9718</td>\n",
       "      <td>0.4267</td>\n",
       "      <td>0.9748</td>\n",
       "    </tr>\n",
       "    <tr>\n",
       "      <th>p_breach</th>\n",
       "      <td>NaN</td>\n",
       "      <td>0.0390</td>\n",
       "      <td>0.0098</td>\n",
       "      <td>NaN</td>\n",
       "      <td>NaN</td>\n",
       "      <td>NaN</td>\n",
       "    </tr>\n",
       "    <tr>\n",
       "      <th>e_short</th>\n",
       "      <td>NaN</td>\n",
       "      <td>0.1213</td>\n",
       "      <td>0.0688</td>\n",
       "      <td>NaN</td>\n",
       "      <td>NaN</td>\n",
       "      <td>NaN</td>\n",
       "    </tr>\n",
       "    <tr>\n",
       "      <th>p_reach</th>\n",
       "      <td>NaN</td>\n",
       "      <td>NaN</td>\n",
       "      <td>NaN</td>\n",
       "      <td>NaN</td>\n",
       "      <td>NaN</td>\n",
       "      <td>NaN</td>\n",
       "    </tr>\n",
       "    <tr>\n",
       "      <th>e_surplus</th>\n",
       "      <td>NaN</td>\n",
       "      <td>NaN</td>\n",
       "      <td>NaN</td>\n",
       "      <td>NaN</td>\n",
       "      <td>NaN</td>\n",
       "      <td>NaN</td>\n",
       "    </tr>\n",
       "  </tbody>\n",
       "</table>\n",
       "</div>"
      ],
      "text/plain": [
       "               ZC      Eq   70/30  Floor75  Floor75m1  Floor75m5\n",
       "mean       1.3433  1.9560  1.7486   1.9330     1.6158     1.9420\n",
       "std        0.0000  0.9669  0.5900   0.9718     0.4267     0.9748\n",
       "p_breach      NaN  0.0390  0.0098      NaN        NaN        NaN\n",
       "e_short       NaN  0.1213  0.0688      NaN        NaN        NaN\n",
       "p_reach       NaN     NaN     NaN      NaN        NaN        NaN\n",
       "e_surplus     NaN     NaN     NaN      NaN        NaN        NaN"
      ]
     },
     "execution_count": 9,
     "metadata": {},
     "output_type": "execute_result"
    }
   ],
   "source": [
    "rets_floor75m1 = erk.bt_mix(rets_eq, rets_zc, allocator=erk.floor_allocator, floor=0.75, zc_prices=zc_prices[1:], m=1)\n",
    "rets_floor75m5 = erk.bt_mix(rets_eq, rets_zc, allocator=erk.floor_allocator, floor=0.75, zc_prices=zc_prices[1:], m=5)\n",
    "pd.concat([erk.terminal_stats(rets_zc, name='ZC', floor=0.75),\n",
    "           erk.terminal_stats(rets_eq, name='Eq', floor=0.75),\n",
    "           erk.terminal_stats(rets_7030b, name='70/30', floor=0.75),\n",
    "           erk.terminal_stats(rets_floor75, name='Floor75', floor=0.75),\n",
    "           erk.terminal_stats(rets_floor75m1, name='Floor75m1', floor=0.75),\n",
    "           erk.terminal_stats(rets_floor75m5, name='Floor75m5', floor=0.75),\n",
    "          ],\n",
    "          axis=1).round(4)"
   ]
  },
  {
   "cell_type": "markdown",
   "metadata": {},
   "source": [
    "## Risk Budgeting with Drawdown Constraints\n",
    "- Using portfolio of stocks and cash given that in this scenario there is no distant liability\n",
    "- Not wanting to have a drawdown exceeded at any given point in time is a very short-term liability"
   ]
  },
  {
   "cell_type": "code",
   "execution_count": 16,
   "metadata": {},
   "outputs": [
    {
     "data": {
      "text/html": [
       "<div>\n",
       "<style scoped>\n",
       "    .dataframe tbody tr th:only-of-type {\n",
       "        vertical-align: middle;\n",
       "    }\n",
       "\n",
       "    .dataframe tbody tr th {\n",
       "        vertical-align: top;\n",
       "    }\n",
       "\n",
       "    .dataframe thead th {\n",
       "        text-align: right;\n",
       "    }\n",
       "</style>\n",
       "<table border=\"1\" class=\"dataframe\">\n",
       "  <thead>\n",
       "    <tr style=\"text-align: right;\">\n",
       "      <th></th>\n",
       "      <th>0</th>\n",
       "      <th>1</th>\n",
       "      <th>2</th>\n",
       "      <th>3</th>\n",
       "      <th>4</th>\n",
       "      <th>5</th>\n",
       "      <th>6</th>\n",
       "      <th>7</th>\n",
       "      <th>8</th>\n",
       "      <th>9</th>\n",
       "      <th>...</th>\n",
       "      <th>4990</th>\n",
       "      <th>4991</th>\n",
       "      <th>4992</th>\n",
       "      <th>4993</th>\n",
       "      <th>4994</th>\n",
       "      <th>4995</th>\n",
       "      <th>4996</th>\n",
       "      <th>4997</th>\n",
       "      <th>4998</th>\n",
       "      <th>4999</th>\n",
       "    </tr>\n",
       "  </thead>\n",
       "  <tbody>\n",
       "    <tr>\n",
       "      <th>1</th>\n",
       "      <td>0.001652</td>\n",
       "      <td>0.001652</td>\n",
       "      <td>0.001652</td>\n",
       "      <td>0.001652</td>\n",
       "      <td>0.001652</td>\n",
       "      <td>0.001652</td>\n",
       "      <td>0.001652</td>\n",
       "      <td>0.001652</td>\n",
       "      <td>0.001652</td>\n",
       "      <td>0.001652</td>\n",
       "      <td>...</td>\n",
       "      <td>0.001652</td>\n",
       "      <td>0.001652</td>\n",
       "      <td>0.001652</td>\n",
       "      <td>0.001652</td>\n",
       "      <td>0.001652</td>\n",
       "      <td>0.001652</td>\n",
       "      <td>0.001652</td>\n",
       "      <td>0.001652</td>\n",
       "      <td>0.001652</td>\n",
       "      <td>0.001652</td>\n",
       "    </tr>\n",
       "    <tr>\n",
       "      <th>2</th>\n",
       "      <td>0.001652</td>\n",
       "      <td>0.001652</td>\n",
       "      <td>0.001652</td>\n",
       "      <td>0.001652</td>\n",
       "      <td>0.001652</td>\n",
       "      <td>0.001652</td>\n",
       "      <td>0.001652</td>\n",
       "      <td>0.001652</td>\n",
       "      <td>0.001652</td>\n",
       "      <td>0.001652</td>\n",
       "      <td>...</td>\n",
       "      <td>0.001652</td>\n",
       "      <td>0.001652</td>\n",
       "      <td>0.001652</td>\n",
       "      <td>0.001652</td>\n",
       "      <td>0.001652</td>\n",
       "      <td>0.001652</td>\n",
       "      <td>0.001652</td>\n",
       "      <td>0.001652</td>\n",
       "      <td>0.001652</td>\n",
       "      <td>0.001652</td>\n",
       "    </tr>\n",
       "    <tr>\n",
       "      <th>3</th>\n",
       "      <td>0.001652</td>\n",
       "      <td>0.001652</td>\n",
       "      <td>0.001652</td>\n",
       "      <td>0.001652</td>\n",
       "      <td>0.001652</td>\n",
       "      <td>0.001652</td>\n",
       "      <td>0.001652</td>\n",
       "      <td>0.001652</td>\n",
       "      <td>0.001652</td>\n",
       "      <td>0.001652</td>\n",
       "      <td>...</td>\n",
       "      <td>0.001652</td>\n",
       "      <td>0.001652</td>\n",
       "      <td>0.001652</td>\n",
       "      <td>0.001652</td>\n",
       "      <td>0.001652</td>\n",
       "      <td>0.001652</td>\n",
       "      <td>0.001652</td>\n",
       "      <td>0.001652</td>\n",
       "      <td>0.001652</td>\n",
       "      <td>0.001652</td>\n",
       "    </tr>\n",
       "    <tr>\n",
       "      <th>4</th>\n",
       "      <td>0.001652</td>\n",
       "      <td>0.001652</td>\n",
       "      <td>0.001652</td>\n",
       "      <td>0.001652</td>\n",
       "      <td>0.001652</td>\n",
       "      <td>0.001652</td>\n",
       "      <td>0.001652</td>\n",
       "      <td>0.001652</td>\n",
       "      <td>0.001652</td>\n",
       "      <td>0.001652</td>\n",
       "      <td>...</td>\n",
       "      <td>0.001652</td>\n",
       "      <td>0.001652</td>\n",
       "      <td>0.001652</td>\n",
       "      <td>0.001652</td>\n",
       "      <td>0.001652</td>\n",
       "      <td>0.001652</td>\n",
       "      <td>0.001652</td>\n",
       "      <td>0.001652</td>\n",
       "      <td>0.001652</td>\n",
       "      <td>0.001652</td>\n",
       "    </tr>\n",
       "    <tr>\n",
       "      <th>5</th>\n",
       "      <td>0.001652</td>\n",
       "      <td>0.001652</td>\n",
       "      <td>0.001652</td>\n",
       "      <td>0.001652</td>\n",
       "      <td>0.001652</td>\n",
       "      <td>0.001652</td>\n",
       "      <td>0.001652</td>\n",
       "      <td>0.001652</td>\n",
       "      <td>0.001652</td>\n",
       "      <td>0.001652</td>\n",
       "      <td>...</td>\n",
       "      <td>0.001652</td>\n",
       "      <td>0.001652</td>\n",
       "      <td>0.001652</td>\n",
       "      <td>0.001652</td>\n",
       "      <td>0.001652</td>\n",
       "      <td>0.001652</td>\n",
       "      <td>0.001652</td>\n",
       "      <td>0.001652</td>\n",
       "      <td>0.001652</td>\n",
       "      <td>0.001652</td>\n",
       "    </tr>\n",
       "  </tbody>\n",
       "</table>\n",
       "<p>5 rows × 5000 columns</p>\n",
       "</div>"
      ],
      "text/plain": [
       "       0         1         2         3         4         5         6     \\\n",
       "1  0.001652  0.001652  0.001652  0.001652  0.001652  0.001652  0.001652   \n",
       "2  0.001652  0.001652  0.001652  0.001652  0.001652  0.001652  0.001652   \n",
       "3  0.001652  0.001652  0.001652  0.001652  0.001652  0.001652  0.001652   \n",
       "4  0.001652  0.001652  0.001652  0.001652  0.001652  0.001652  0.001652   \n",
       "5  0.001652  0.001652  0.001652  0.001652  0.001652  0.001652  0.001652   \n",
       "\n",
       "       7         8         9     ...      4990      4991      4992      4993  \\\n",
       "1  0.001652  0.001652  0.001652  ...  0.001652  0.001652  0.001652  0.001652   \n",
       "2  0.001652  0.001652  0.001652  ...  0.001652  0.001652  0.001652  0.001652   \n",
       "3  0.001652  0.001652  0.001652  ...  0.001652  0.001652  0.001652  0.001652   \n",
       "4  0.001652  0.001652  0.001652  ...  0.001652  0.001652  0.001652  0.001652   \n",
       "5  0.001652  0.001652  0.001652  ...  0.001652  0.001652  0.001652  0.001652   \n",
       "\n",
       "       4994      4995      4996      4997      4998      4999  \n",
       "1  0.001652  0.001652  0.001652  0.001652  0.001652  0.001652  \n",
       "2  0.001652  0.001652  0.001652  0.001652  0.001652  0.001652  \n",
       "3  0.001652  0.001652  0.001652  0.001652  0.001652  0.001652  \n",
       "4  0.001652  0.001652  0.001652  0.001652  0.001652  0.001652  \n",
       "5  0.001652  0.001652  0.001652  0.001652  0.001652  0.001652  \n",
       "\n",
       "[5 rows x 5000 columns]"
      ]
     },
     "execution_count": 16,
     "metadata": {},
     "output_type": "execute_result"
    }
   ],
   "source": [
    "cashrate = 0.02\n",
    "monthly_cashreturn = (1+cashrate)**(1/12)-1\n",
    "\n",
    "rets_cash = pd.DataFrame(data=monthly_cashreturn, index=rets_eq.index, columns=rets_eq.columns)\n",
    "rets_cash.head()"
   ]
  },
  {
   "cell_type": "code",
   "execution_count": 11,
   "metadata": {},
   "outputs": [
    {
     "data": {
      "text/html": [
       "<div>\n",
       "<style scoped>\n",
       "    .dataframe tbody tr th:only-of-type {\n",
       "        vertical-align: middle;\n",
       "    }\n",
       "\n",
       "    .dataframe tbody tr th {\n",
       "        vertical-align: top;\n",
       "    }\n",
       "\n",
       "    .dataframe thead th {\n",
       "        text-align: right;\n",
       "    }\n",
       "</style>\n",
       "<table border=\"1\" class=\"dataframe\">\n",
       "  <thead>\n",
       "    <tr style=\"text-align: right;\">\n",
       "      <th></th>\n",
       "      <th>ZC</th>\n",
       "      <th>Eq</th>\n",
       "      <th>70/30</th>\n",
       "      <th>Floor75</th>\n",
       "      <th>Floor75m1</th>\n",
       "      <th>Floor75m5</th>\n",
       "      <th>MaxDD25</th>\n",
       "    </tr>\n",
       "  </thead>\n",
       "  <tbody>\n",
       "    <tr>\n",
       "      <th>mean</th>\n",
       "      <td>1.3433</td>\n",
       "      <td>1.9560</td>\n",
       "      <td>1.7486</td>\n",
       "      <td>1.9330</td>\n",
       "      <td>1.6158</td>\n",
       "      <td>1.9420</td>\n",
       "      <td>1.6211</td>\n",
       "    </tr>\n",
       "    <tr>\n",
       "      <th>std</th>\n",
       "      <td>0.0000</td>\n",
       "      <td>0.9669</td>\n",
       "      <td>0.5900</td>\n",
       "      <td>0.9718</td>\n",
       "      <td>0.4267</td>\n",
       "      <td>0.9748</td>\n",
       "      <td>0.5354</td>\n",
       "    </tr>\n",
       "    <tr>\n",
       "      <th>p_breach</th>\n",
       "      <td>NaN</td>\n",
       "      <td>0.0390</td>\n",
       "      <td>0.0098</td>\n",
       "      <td>NaN</td>\n",
       "      <td>NaN</td>\n",
       "      <td>NaN</td>\n",
       "      <td>NaN</td>\n",
       "    </tr>\n",
       "    <tr>\n",
       "      <th>e_short</th>\n",
       "      <td>NaN</td>\n",
       "      <td>0.1213</td>\n",
       "      <td>0.0688</td>\n",
       "      <td>NaN</td>\n",
       "      <td>NaN</td>\n",
       "      <td>NaN</td>\n",
       "      <td>NaN</td>\n",
       "    </tr>\n",
       "    <tr>\n",
       "      <th>p_reach</th>\n",
       "      <td>NaN</td>\n",
       "      <td>NaN</td>\n",
       "      <td>NaN</td>\n",
       "      <td>NaN</td>\n",
       "      <td>NaN</td>\n",
       "      <td>NaN</td>\n",
       "      <td>NaN</td>\n",
       "    </tr>\n",
       "    <tr>\n",
       "      <th>e_surplus</th>\n",
       "      <td>NaN</td>\n",
       "      <td>NaN</td>\n",
       "      <td>NaN</td>\n",
       "      <td>NaN</td>\n",
       "      <td>NaN</td>\n",
       "      <td>NaN</td>\n",
       "      <td>NaN</td>\n",
       "    </tr>\n",
       "  </tbody>\n",
       "</table>\n",
       "</div>"
      ],
      "text/plain": [
       "               ZC      Eq   70/30  Floor75  Floor75m1  Floor75m5  MaxDD25\n",
       "mean       1.3433  1.9560  1.7486   1.9330     1.6158     1.9420   1.6211\n",
       "std        0.0000  0.9669  0.5900   0.9718     0.4267     0.9748   0.5354\n",
       "p_breach      NaN  0.0390  0.0098      NaN        NaN        NaN      NaN\n",
       "e_short       NaN  0.1213  0.0688      NaN        NaN        NaN      NaN\n",
       "p_reach       NaN     NaN     NaN      NaN        NaN        NaN      NaN\n",
       "e_surplus     NaN     NaN     NaN      NaN        NaN        NaN      NaN"
      ]
     },
     "execution_count": 11,
     "metadata": {},
     "output_type": "execute_result"
    }
   ],
   "source": [
    "rets_maxdd25 = erk.bt_mix(rets_eq, rets_cash, allocator=erk.drawdown_allocator, maxdd=.25)\n",
    "tv_maxdd25 = erk.terminal_values(rets_maxdd25)\n",
    "\n",
    "pd.concat([erk.terminal_stats(rets_zc, name='ZC', floor=0.75),\n",
    "           erk.terminal_stats(rets_eq, name='Eq', floor=0.75),\n",
    "           erk.terminal_stats(rets_7030b, name='70/30', floor=0.75),\n",
    "           erk.terminal_stats(rets_floor75, name='Floor75', floor=0.75),\n",
    "           erk.terminal_stats(rets_floor75m1, name='Floor75m1', floor=0.75),\n",
    "           erk.terminal_stats(rets_floor75m5, name='Floor75m5', floor=0.75),\n",
    "           erk.terminal_stats(rets_maxdd25, name='MaxDD25', floor=0.75),\n",
    "          ],\n",
    "          axis=1).round(4)"
   ]
  },
  {
   "cell_type": "code",
   "execution_count": 12,
   "metadata": {},
   "outputs": [
    {
     "data": {
      "text/plain": [
       "0   -0.126550\n",
       "1   -0.197736\n",
       "2   -0.137006\n",
       "3   -0.164497\n",
       "4   -0.132603\n",
       "Name: Max Drawdown, dtype: float64"
      ]
     },
     "execution_count": 12,
     "metadata": {},
     "output_type": "execute_result"
    }
   ],
   "source": [
    "erk.summary_stats(rets_maxdd25)['Max Drawdown'].head()"
   ]
  },
  {
   "cell_type": "code",
   "execution_count": 13,
   "metadata": {},
   "outputs": [
    {
     "data": {
      "text/plain": [
       "-0.2347653638298039"
      ]
     },
     "execution_count": 13,
     "metadata": {},
     "output_type": "execute_result"
    }
   ],
   "source": [
    "erk.summary_stats(rets_maxdd25)['Max Drawdown'].min()"
   ]
  },
  {
   "cell_type": "markdown",
   "metadata": {},
   "source": [
    "## Distribution of Portfolio Terminal Values\n",
    "- note how the various strategies are shaping the outcomes\n",
    "- how these strategies operate is to shift or shape, move the shape of the distribution towards something that is more acceptable\n",
    "- giving up some of the upside in exchange for eliminating some large part of the downside that you simply do not find acceptable."
   ]
  },
  {
   "cell_type": "code",
   "execution_count": 14,
   "metadata": {},
   "outputs": [
    {
     "data": {
      "image/png": "[encoded data removed]",
      "text/plain": [
       "<Figure size 864x432 with 1 Axes>"
      ]
     },
     "metadata": {
      "needs_background": "light"
     },
     "output_type": "display_data"
    }
   ],
   "source": [
    "import seaborn as sns\n",
    "\n",
    "tv_eq = erk.terminal_values(rets_eq)\n",
    "tv_zc = erk.terminal_values(rets_zc)\n",
    "tv_7030b = erk.terminal_values(rets_7030b)\n",
    "tv_floor75 = erk.terminal_values(rets_floor75)\n",
    "tv_maxdd25 = erk.terminal_values(rets_maxdd25)\n",
    "\n",
    "# Plot\n",
    "plt.figure(figsize=(12,6))\n",
    "sns.distplot(tv_eq, color = \"red\", label=\"100% Equities\", bins=100)\n",
    "plt.axvline(tv_eq.mean(), ls=\"--\", color=\"red\")\n",
    "sns.distplot(tv_7030b, color = \"orange\", label=\"70/30 Equities/Bonds\", bins=100)\n",
    "plt.axvline(tv_7030b.mean(), ls=\"--\", color=\"orange\")\n",
    "sns.distplot(tv_floor75, color = \"green\", label=\"Floor at 75%\", bins=100)\n",
    "plt.axvline(tv_floor75.mean(), ls=\"--\", color=\"green\")\n",
    "sns.distplot(tv_maxdd25, color = \"yellow\", label=\"MaxDD = 25%\", bins=100)\n",
    "plt.axvline(tv_maxdd25.mean(), ls=\"--\", color=\"yellow\")\n",
    "plt.legend();"
   ]
  },
  {
   "cell_type": "markdown",
   "metadata": {},
   "source": [
    "## Drawdown constraint with Historical Data\n",
    "- One historical scenario vs generated scenarios previously\n",
    "- Note the lower return for the drawdown allocator portfolio vs the market index but compensated by the much lower maximum drawdown"
   ]
  },
  {
   "cell_type": "code",
   "execution_count": 25,
   "metadata": {},
   "outputs": [
    {
     "data": {
      "image/png": "[encoded data removed]",
      "text/plain": [
       "<Figure size 864x432 with 1 Axes>"
      ]
     },
     "metadata": {
      "needs_background": "light"
     },
     "output_type": "display_data"
    }
   ],
   "source": [
    "rets_tmi = erk.get_total_market_index_returns()[\"1990\":]\n",
    "dd_tmi = erk.drawdown(rets_tmi)\n",
    "ax = dd_tmi[\"Wealth\"].plot(figsize=(12,6), ls='-', color='goldenrod')\n",
    "dd_tmi['Previous Peak'].plot(ax=ax, ls=':', color='goldenrod')\n",
    "plt.show()"
   ]
  },
  {
   "cell_type": "code",
   "execution_count": 26,
   "metadata": {},
   "outputs": [
    {
     "data": {
      "image/png": "[encoded data removed]",
      "text/plain": [
       "<Figure size 864x432 with 1 Axes>"
      ]
     },
     "metadata": {
      "needs_background": "light"
     },
     "output_type": "display_data"
    }
   ],
   "source": [
    "cashrate = 0.03\n",
    "monthly_cashreturn = (1+cashrate)**(1/12)-1\n",
    "rets_cash = pd.DataFrame(data=monthly_cashreturn, index=rets_tmi.index, columns=[0])\n",
    "\n",
    "rets_maxdd25 = erk.bt_mix(pd.DataFrame(rets_tmi), rets_cash, allocator=erk.drawdown_allocator, maxdd=.25, m=5)\n",
    "dd_25 = erk.drawdown(rets_maxdd25[0])\n",
    "\n",
    "ax = dd_tmi['Wealth'].plot(figsize=(12,6), ls=\"-\", color='goldenrod', label='Market', legend=True)\n",
    "dd_tmi['Previous Peak'].plot(ax=ax, ls=\":\", color=\"goldenrod\")\n",
    "dd_25['Wealth'].plot(ax=ax, label=\"MaxDD 25%\", color='cornflowerblue', legend=True)\n",
    "dd_25['Previous Peak'].plot(ax=ax, ls=':', color='cornflowerblue')\n",
    "plt.show()"
   ]
  },
  {
   "cell_type": "code",
   "execution_count": 27,
   "metadata": {},
   "outputs": [
    {
     "data": {
      "text/html": [
       "<div>\n",
       "<style scoped>\n",
       "    .dataframe tbody tr th:only-of-type {\n",
       "        vertical-align: middle;\n",
       "    }\n",
       "\n",
       "    .dataframe tbody tr th {\n",
       "        vertical-align: top;\n",
       "    }\n",
       "\n",
       "    .dataframe thead th {\n",
       "        text-align: right;\n",
       "    }\n",
       "</style>\n",
       "<table border=\"1\" class=\"dataframe\">\n",
       "  <thead>\n",
       "    <tr style=\"text-align: right;\">\n",
       "      <th></th>\n",
       "      <th>Annualized Return</th>\n",
       "      <th>Annualized Vol</th>\n",
       "      <th>Skewness</th>\n",
       "      <th>Kurtosis</th>\n",
       "      <th>Cornish-Fisher VaR (5%)</th>\n",
       "      <th>Historic CVaR (5%)</th>\n",
       "      <th>Sharpe Ratio</th>\n",
       "      <th>Max Drawdown</th>\n",
       "    </tr>\n",
       "  </thead>\n",
       "  <tbody>\n",
       "    <tr>\n",
       "      <th>Market</th>\n",
       "      <td>0.096058</td>\n",
       "      <td>0.145419</td>\n",
       "      <td>-0.668827</td>\n",
       "      <td>4.247282</td>\n",
       "      <td>0.066949</td>\n",
       "      <td>0.094633</td>\n",
       "      <td>0.441951</td>\n",
       "      <td>-0.499943</td>\n",
       "    </tr>\n",
       "    <tr>\n",
       "      <th>MaxDD</th>\n",
       "      <td>0.090062</td>\n",
       "      <td>0.112755</td>\n",
       "      <td>-0.630463</td>\n",
       "      <td>5.015334</td>\n",
       "      <td>0.049978</td>\n",
       "      <td>0.071074</td>\n",
       "      <td>0.518327</td>\n",
       "      <td>-0.244212</td>\n",
       "    </tr>\n",
       "  </tbody>\n",
       "</table>\n",
       "</div>"
      ],
      "text/plain": [
       "        Annualized Return  Annualized Vol  Skewness  Kurtosis  \\\n",
       "Market           0.096058        0.145419 -0.668827  4.247282   \n",
       "MaxDD            0.090062        0.112755 -0.630463  5.015334   \n",
       "\n",
       "        Cornish-Fisher VaR (5%)  Historic CVaR (5%)  Sharpe Ratio  \\\n",
       "Market                 0.066949            0.094633      0.441951   \n",
       "MaxDD                  0.049978            0.071074      0.518327   \n",
       "\n",
       "        Max Drawdown  \n",
       "Market     -0.499943  \n",
       "MaxDD      -0.244212  "
      ]
     },
     "execution_count": 27,
     "metadata": {},
     "output_type": "execute_result"
    }
   ],
   "source": [
    "erk.summary_stats(pd.concat([rets_tmi.rename(\"Market\"), rets_maxdd25[0].rename(\"MaxDD\")], axis=1))"
   ]
  },
  {
   "cell_type": "code",
   "execution_count": null,
   "metadata": {},
   "outputs": [],
   "source": []
  }
 ],
 "metadata": {
  "kernelspec": {
   "display_name": "Python 3",
   "language": "python",
   "name": "python3"
  },
  "language_info": {
   "codemirror_mode": {
    "name": "ipython",
    "version": 3
   },
   "file_extension": ".py",
   "mimetype": "text/x-python",
   "name": "python",
   "nbconvert_exporter": "python",
   "pygments_lexer": "ipython3",
   "version": "3.8.3"
  }
 },
 "nbformat": 4,
 "nbformat_minor": 4
}
