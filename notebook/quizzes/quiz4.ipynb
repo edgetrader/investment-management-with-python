{
 "cells": [
  {
   "cell_type": "markdown",
   "metadata": {},
   "source": [
    "## Quiz\n",
    "\n",
    "We will be working with three bonds:  \n",
    "- B1 is a 15 Year Bond with a Face Value of 1000 that pays a 5% coupon semi-annually (2 times a year)\n",
    "- B2 is a 5 Year Bond with a Face value of 1000 that pays a 6% coupon quarterly (4 times a year)\n",
    "- B3 is a 10 Year Zero-Coupon Bond with a Face Value of 1000\n",
    "\n",
    "(Hint: you can still use the erk.bond_cash_flows() and erk.bond_price() by setting the coupon amount to 0% and the coupons_per_year to 1)\n",
    "\n",
    "Assume the yield curve is flat at 5%."
   ]
  },
  {
   "cell_type": "code",
   "execution_count": 44,
   "metadata": {},
   "outputs": [],
   "source": [
    "B1 = erk.bond_price(15, principal=1000, coupon_rate=0.05, coupons_per_year=2, discount_rate=0.05)\n",
    "B2 = erk.bond_price(5, principal=1000, coupon_rate=0.06, coupons_per_year=4, discount_rate=0.05)\n",
    "B3 = erk.bond_price(10, principal=1000, coupon_rate=0, coupons_per_year=1, discount_rate=0.05)"
   ]
  },
  {
   "cell_type": "code",
   "execution_count": 45,
   "metadata": {},
   "outputs": [
    {
     "data": {
      "text/plain": [
       "(0    1000.0\n",
       " dtype: float64,\n",
       " 0    1043.99829\n",
       " dtype: float64,\n",
       " 0    613.913254\n",
       " dtype: float64)"
      ]
     },
     "execution_count": 45,
     "metadata": {},
     "output_type": "execute_result"
    }
   ],
   "source": [
    "B1, B2, B3"
   ]
  },
  {
   "cell_type": "code",
   "execution_count": 62,
   "metadata": {},
   "outputs": [],
   "source": [
    "md_1 = erk.macaulay_duration(erk.bond_cash_flows(15, 1000, 0.05, 2), .05/2)/2\n",
    "md_2 = erk.macaulay_duration(erk.bond_cash_flows(5, 1000, 0.06, 4), .05/4)/4\n",
    "md_3 = erk.macaulay_duration(erk.bond_cash_flows(10, 1000, 0, 1), .05)/1"
   ]
  },
  {
   "cell_type": "code",
   "execution_count": 63,
   "metadata": {},
   "outputs": [
    {
     "data": {
      "text/plain": [
       "(10.72677495379012, 4.373363222636413, 10.0)"
      ]
     },
     "execution_count": 63,
     "metadata": {},
     "output_type": "execute_result"
    }
   ],
   "source": [
    "md_1, md_2, md_3"
   ]
  },
  {
   "cell_type": "code",
   "execution_count": 64,
   "metadata": {},
   "outputs": [],
   "source": [
    "liabilities = pd.DataFrame(data=[100000,200000,300000], index=[3,5,10])"
   ]
  },
  {
   "cell_type": "code",
   "execution_count": 65,
   "metadata": {},
   "outputs": [
    {
     "data": {
      "text/plain": [
       "6.750917852744651"
      ]
     },
     "execution_count": 65,
     "metadata": {},
     "output_type": "execute_result"
    }
   ],
   "source": [
    "md_liabilities = erk.macaulay_duration(liabilities, .05)\n",
    "md_liabilities"
   ]
  },
  {
   "cell_type": "code",
   "execution_count": 66,
   "metadata": {},
   "outputs": [],
   "source": [
    "cf_1 = erk.bond_cash_flows(15, 1000, 0.05, 2)\n",
    "cf_2 = erk.bond_cash_flows(5, 1000, 0.06, 4)\n",
    "cf_3 = erk.bond_cash_flows(10, 1000, 0, 1)"
   ]
  },
  {
   "cell_type": "code",
   "execution_count": 67,
   "metadata": {},
   "outputs": [],
   "source": [
    "def match_durations_p(cf_t, cf_s, cf_l, discount_rate, p_t, p_s, p_l):\n",
    "    \"\"\"\n",
    "    Returns the weight W in cf_s that, along with (1-W) in cf_l will have an effective duration\n",
    "    the matches cf_t\n",
    "    \"\"\"\n",
    "    d_t = erk.macaulay_duration(cf_t, discount_rate/p_t )/p_t  \n",
    "    d_s = erk.macaulay_duration(cf_s, discount_rate/p_s )/p_s    \n",
    "    d_l = erk.macaulay_duration(cf_l, discount_rate/p_l )/p_l \n",
    "    \n",
    "    print(d_t, d_s, d_l)\n",
    "    \n",
    "    return (d_l - d_t)/(d_l - d_s)"
   ]
  },
  {
   "cell_type": "code",
   "execution_count": 68,
   "metadata": {},
   "outputs": [
    {
     "name": "stdout",
     "output_type": "stream",
     "text": [
      "6.750917852744651 4.373363222636413 10.72677495379012\n"
     ]
    },
    {
     "data": {
      "text/plain": [
       "0.6257830075060314"
      ]
     },
     "execution_count": 68,
     "metadata": {},
     "output_type": "execute_result"
    }
   ],
   "source": [
    "match_durations_p(liabilities, cf_2, cf_1, 0.05, 1, 4, 2)"
   ]
  },
  {
   "cell_type": "code",
   "execution_count": 69,
   "metadata": {},
   "outputs": [
    {
     "data": {
      "text/plain": [
       "0.6257830075060314"
      ]
     },
     "execution_count": 69,
     "metadata": {},
     "output_type": "execute_result"
    }
   ],
   "source": [
    "(md_1 - md_liabilities)/(md_1 - md_2)"
   ]
  },
  {
   "cell_type": "code",
   "execution_count": 70,
   "metadata": {},
   "outputs": [
    {
     "name": "stdout",
     "output_type": "stream",
     "text": [
      "6.750917852744651 4.373363222636413 10.0\n"
     ]
    },
    {
     "data": {
      "text/plain": [
       "0.5774465770256697"
      ]
     },
     "execution_count": 70,
     "metadata": {},
     "output_type": "execute_result"
    }
   ],
   "source": [
    "match_durations_p(liabilities, cf_2, cf_3, 0.05, 1, 4, 1)"
   ]
  },
  {
   "cell_type": "code",
   "execution_count": 71,
   "metadata": {},
   "outputs": [
    {
     "data": {
      "text/plain": [
       "0.5774465770256697"
      ]
     },
     "execution_count": 71,
     "metadata": {},
     "output_type": "execute_result"
    }
   ],
   "source": [
    "(md_3 - md_liabilities)/(md_3 - md_2)"
   ]
  },
  {
   "cell_type": "markdown",
   "metadata": {},
   "source": [
    "1. B2\n",
    "2. B3\n",
    "3. 614\n",
    "4. B1\n",
    "5. B2\n",
    "6. 4.37\n",
    "7. 6.75\n",
    "8. 62.58\n",
    "9. B1+B3\n",
    "10. 57.74\n",
    "\n",
    "\n"
   ]
  }
 ],
 "metadata": {
  "kernelspec": {
   "display_name": "Python 3",
   "language": "python",
   "name": "python3"
  },
  "language_info": {
   "codemirror_mode": {
    "name": "ipython",
    "version": 3
   },
   "file_extension": ".py",
   "mimetype": "text/x-python",
   "name": "python",
   "nbconvert_exporter": "python",
   "pygments_lexer": "ipython3",
   "version": "3.8.3"
  }
 },
 "nbformat": 4,
 "nbformat_minor": 4
}
